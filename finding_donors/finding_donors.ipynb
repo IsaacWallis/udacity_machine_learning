{
 "cells": [
  {
   "cell_type": "markdown",
   "metadata": {
    "deletable": true,
    "editable": true
   },
   "source": [
    "# Machine Learning Engineer Nanodegree\n",
    "## Supervised Learning\n",
    "## Project: Finding Donors for *CharityML*"
   ]
  },
  {
   "cell_type": "markdown",
   "metadata": {
    "deletable": true,
    "editable": true
   },
   "source": [
    "Welcome to the second project of the Machine Learning Engineer Nanodegree! In this notebook, some template code has already been provided for you, and it will be your job to implement the additional functionality necessary to successfully complete this project. Sections that begin with **'Implementation'** in the header indicate that the following block of code will require additional functionality which you must provide. Instructions will be provided for each section and the specifics of the implementation are marked in the code block with a `'TODO'` statement. Please be sure to read the instructions carefully!\n",
    "\n",
    "In addition to implementing code, there will be questions that you must answer which relate to the project and your implementation. Each section where you will answer a question is preceded by a **'Question X'** header. Carefully read each question and provide thorough answers in the following text boxes that begin with **'Answer:'**. Your project submission will be evaluated based on your answers to each of the questions and the implementation you provide.  \n",
    "\n",
    ">**Note:** Code and Markdown cells can be executed using the **Shift + Enter** keyboard shortcut. In addition, Markdown cells can be edited by typically double-clicking the cell to enter edit mode."
   ]
  },
  {
   "cell_type": "markdown",
   "metadata": {
    "deletable": true,
    "editable": true
   },
   "source": [
    "## Getting Started\n",
    "\n",
    "In this project, you will employ several supervised algorithms of your choice to accurately model individuals' income using data collected from the 1994 U.S. Census. You will then choose the best candidate algorithm from preliminary results and further optimize this algorithm to best model the data. Your goal with this implementation is to construct a model that accurately predicts whether an individual makes more than $50,000. This sort of task can arise in a non-profit setting, where organizations survive on donations.  Understanding an individual's income can help a non-profit better understand how large of a donation to request, or whether or not they should reach out to begin with.  While it can be difficult to determine an individual's general income bracket directly from public sources, we can (as we will see) infer this value from other publically available features. \n",
    "\n",
    "The dataset for this project originates from the [UCI Machine Learning Repository](https://archive.ics.uci.edu/ml/datasets/Census+Income). The datset was donated by Ron Kohavi and Barry Becker, after being published in the article _\"Scaling Up the Accuracy of Naive-Bayes Classifiers: A Decision-Tree Hybrid\"_. You can find the article by Ron Kohavi [online](https://www.aaai.org/Papers/KDD/1996/KDD96-033.pdf). The data we investigate here consists of small changes to the original dataset, such as removing the `'fnlwgt'` feature and records with missing or ill-formatted entries."
   ]
  },
  {
   "cell_type": "markdown",
   "metadata": {
    "deletable": true,
    "editable": true
   },
   "source": [
    "----\n",
    "## Exploring the Data\n",
    "Run the code cell below to load necessary Python libraries and load the census data. Note that the last column from this dataset, `'income'`, will be our target label (whether an individual makes more than, or at most, $50,000 annually). All other columns are features about each individual in the census database."
   ]
  },
  {
   "cell_type": "code",
   "execution_count": 2,
   "metadata": {
    "collapsed": false,
    "deletable": true,
    "editable": true
   },
   "outputs": [
    {
     "data": {
      "text/html": [
       "<div>\n",
       "<table border=\"1\" class=\"dataframe\">\n",
       "  <thead>\n",
       "    <tr style=\"text-align: right;\">\n",
       "      <th></th>\n",
       "      <th>age</th>\n",
       "      <th>workclass</th>\n",
       "      <th>education_level</th>\n",
       "      <th>education-num</th>\n",
       "      <th>marital-status</th>\n",
       "      <th>occupation</th>\n",
       "      <th>relationship</th>\n",
       "      <th>race</th>\n",
       "      <th>sex</th>\n",
       "      <th>capital-gain</th>\n",
       "      <th>capital-loss</th>\n",
       "      <th>hours-per-week</th>\n",
       "      <th>native-country</th>\n",
       "      <th>income</th>\n",
       "    </tr>\n",
       "  </thead>\n",
       "  <tbody>\n",
       "    <tr>\n",
       "      <th>0</th>\n",
       "      <td>39</td>\n",
       "      <td>State-gov</td>\n",
       "      <td>Bachelors</td>\n",
       "      <td>13.0</td>\n",
       "      <td>Never-married</td>\n",
       "      <td>Adm-clerical</td>\n",
       "      <td>Not-in-family</td>\n",
       "      <td>White</td>\n",
       "      <td>Male</td>\n",
       "      <td>2174.0</td>\n",
       "      <td>0.0</td>\n",
       "      <td>40.0</td>\n",
       "      <td>United-States</td>\n",
       "      <td>&lt;=50K</td>\n",
       "    </tr>\n",
       "  </tbody>\n",
       "</table>\n",
       "</div>"
      ],
      "text/plain": [
       "   age   workclass education_level  education-num  marital-status  \\\n",
       "0   39   State-gov       Bachelors           13.0   Never-married   \n",
       "\n",
       "      occupation    relationship    race    sex  capital-gain  capital-loss  \\\n",
       "0   Adm-clerical   Not-in-family   White   Male        2174.0           0.0   \n",
       "\n",
       "   hours-per-week  native-country income  \n",
       "0            40.0   United-States  <=50K  "
      ]
     },
     "metadata": {},
     "output_type": "display_data"
    }
   ],
   "source": [
    "# Import libraries necessary for this project\n",
    "import numpy as np\n",
    "import pandas as pd\n",
    "from time import time\n",
    "from IPython.display import display # Allows the use of display() for DataFrames\n",
    "\n",
    "# Import supplementary visualization code visuals.py\n",
    "import visuals as vs\n",
    "\n",
    "# Pretty display for notebooks\n",
    "%matplotlib inline\n",
    "\n",
    "# Load the Census dataset\n",
    "data = pd.read_csv(\"census.csv\")\n",
    "\n",
    "# Success - Display the first record\n",
    "display(data.head(n=1))"
   ]
  },
  {
   "cell_type": "markdown",
   "metadata": {
    "deletable": true,
    "editable": true
   },
   "source": [
    "### Implementation: Data Exploration\n",
    "A cursory investigation of the dataset will determine how many individuals fit into either group, and will tell us about the percentage of these individuals making more than \\$50,000. In the code cell below, you will need to compute the following:\n",
    "- The total number of records, `'n_records'`\n",
    "- The number of individuals making more than \\$50,000 annually, `'n_greater_50k'`.\n",
    "- The number of individuals making at most \\$50,000 annually, `'n_at_most_50k'`.\n",
    "- The percentage of individuals making more than \\$50,000 annually, `'greater_percent'`.\n",
    "\n",
    "**Hint:** You may need to look at the table above to understand how the `'income'` entries are formatted. "
   ]
  },
  {
   "cell_type": "code",
   "execution_count": 5,
   "metadata": {
    "collapsed": false,
    "deletable": true,
    "editable": true
   },
   "outputs": [
    {
     "name": "stdout",
     "output_type": "stream",
     "text": [
      "Total number of records: 45222\n",
      "Individuals making more than $50,000:        age          workclass education_level  education-num  \\\n",
      "7       52   Self-emp-not-inc         HS-grad            9.0   \n",
      "8       31            Private         Masters           14.0   \n",
      "9       42            Private       Bachelors           13.0   \n",
      "10      37            Private    Some-college           10.0   \n",
      "11      30          State-gov       Bachelors           13.0   \n",
      "18      43   Self-emp-not-inc         Masters           14.0   \n",
      "19      40            Private       Doctorate           16.0   \n",
      "24      56          Local-gov       Bachelors           13.0   \n",
      "42      57        Federal-gov       Bachelors           13.0   \n",
      "48      47            Private     Prof-school           15.0   \n",
      "49      50        Federal-gov       Bachelors           13.0   \n",
      "51      43            Private    Some-college           10.0   \n",
      "58      42            Private       Doctorate           16.0   \n",
      "62      53            Private         HS-grad            9.0   \n",
      "63      49       Self-emp-inc    Some-college           10.0   \n",
      "66      29   Self-emp-not-inc       Bachelors           13.0   \n",
      "77      44            Private         HS-grad            9.0   \n",
      "79      49          Local-gov         HS-grad            9.0   \n",
      "82      43        Federal-gov       Doctorate           16.0   \n",
      "86      34          Local-gov       Bachelors           13.0   \n",
      "88      48   Self-emp-not-inc       Doctorate           16.0   \n",
      "89      37            Private    Some-college           10.0   \n",
      "92      76            Private         Masters           14.0   \n",
      "93      44            Private       Bachelors           13.0   \n",
      "97      32       Self-emp-inc         HS-grad            9.0   \n",
      "102     38            Private     Prof-school           15.0   \n",
      "103     56   Self-emp-not-inc         HS-grad            9.0   \n",
      "108     49          Local-gov       Assoc-voc           11.0   \n",
      "114     29          State-gov       Bachelors           13.0   \n",
      "116     47            Private       Bachelors           13.0   \n",
      "...    ...                ...             ...            ...   \n",
      "45104   46            Private    Some-college           10.0   \n",
      "45107   41            Private         HS-grad            9.0   \n",
      "45108   48            Private       Bachelors           13.0   \n",
      "45111   52            Private       Bachelors           13.0   \n",
      "45120   64          Local-gov       Doctorate           16.0   \n",
      "45121   55          Local-gov     Prof-school           15.0   \n",
      "45125   37            Private         Masters           14.0   \n",
      "45126   27            Private         Masters           14.0   \n",
      "45127   35            Private      Assoc-acdm           12.0   \n",
      "45130   59          State-gov       Bachelors           13.0   \n",
      "45131   31            Private       Bachelors           13.0   \n",
      "45140   32            Private         HS-grad            9.0   \n",
      "45151   57            Private         7th-8th            4.0   \n",
      "45154   29            Private         HS-grad            9.0   \n",
      "45160   41            Private    Some-college           10.0   \n",
      "45163   34       Self-emp-inc         HS-grad            9.0   \n",
      "45169   50   Self-emp-not-inc       Bachelors           13.0   \n",
      "45170   52            Private         HS-grad            9.0   \n",
      "45173   35          Local-gov    Some-college           10.0   \n",
      "45176   34        Federal-gov         HS-grad            9.0   \n",
      "45182   30            Private     Prof-school           15.0   \n",
      "45184   57            Private    Some-college           10.0   \n",
      "45188   32            Private       Assoc-voc           11.0   \n",
      "45189   51   Self-emp-not-inc       Bachelors           13.0   \n",
      "45194   49       Self-emp-inc         HS-grad            9.0   \n",
      "45195   60            Private       Assoc-voc           11.0   \n",
      "45197   38            Private         Masters           14.0   \n",
      "45198   43          Local-gov         Masters           14.0   \n",
      "45204   40            Private     Prof-school           15.0   \n",
      "45221   35       Self-emp-inc       Bachelors           13.0   \n",
      "\n",
      "            marital-status          occupation    relationship  \\\n",
      "7       Married-civ-spouse     Exec-managerial         Husband   \n",
      "8            Never-married      Prof-specialty   Not-in-family   \n",
      "9       Married-civ-spouse     Exec-managerial         Husband   \n",
      "10      Married-civ-spouse     Exec-managerial         Husband   \n",
      "11      Married-civ-spouse      Prof-specialty         Husband   \n",
      "18                Divorced     Exec-managerial       Unmarried   \n",
      "19      Married-civ-spouse      Prof-specialty         Husband   \n",
      "24      Married-civ-spouse        Tech-support         Husband   \n",
      "42      Married-civ-spouse      Prof-specialty         Husband   \n",
      "48      Married-civ-spouse      Prof-specialty            Wife   \n",
      "49                Divorced     Exec-managerial   Not-in-family   \n",
      "51      Married-civ-spouse        Tech-support         Husband   \n",
      "58      Married-civ-spouse      Prof-specialty         Husband   \n",
      "62      Married-civ-spouse        Adm-clerical            Wife   \n",
      "63      Married-civ-spouse     Exec-managerial         Husband   \n",
      "66      Married-civ-spouse               Sales         Husband   \n",
      "77                Divorced        Craft-repair   Not-in-family   \n",
      "79      Married-civ-spouse     Protective-serv         Husband   \n",
      "82           Never-married      Prof-specialty   Not-in-family   \n",
      "86      Married-civ-spouse     Protective-serv         Husband   \n",
      "88      Married-civ-spouse      Prof-specialty         Husband   \n",
      "89      Married-civ-spouse               Sales         Husband   \n",
      "92      Married-civ-spouse     Exec-managerial         Husband   \n",
      "93      Married-civ-spouse     Exec-managerial         Husband   \n",
      "97      Married-civ-spouse        Craft-repair         Husband   \n",
      "102     Married-civ-spouse      Prof-specialty         Husband   \n",
      "103     Married-civ-spouse       Other-service         Husband   \n",
      "108     Married-civ-spouse        Craft-repair         Husband   \n",
      "114     Married-civ-spouse      Prof-specialty         Husband   \n",
      "116     Married-civ-spouse     Exec-managerial            Wife   \n",
      "...                    ...                 ...             ...   \n",
      "45104   Married-civ-spouse     Exec-managerial         Husband   \n",
      "45107   Married-civ-spouse    Transport-moving         Husband   \n",
      "45108   Married-civ-spouse               Sales         Husband   \n",
      "45111   Married-civ-spouse     Exec-managerial         Husband   \n",
      "45120   Married-civ-spouse     Protective-serv         Husband   \n",
      "45121   Married-civ-spouse      Prof-specialty         Husband   \n",
      "45125        Never-married     Exec-managerial       Own-child   \n",
      "45126   Married-civ-spouse        Adm-clerical            Wife   \n",
      "45127   Married-civ-spouse     Exec-managerial         Husband   \n",
      "45130   Married-civ-spouse      Prof-specialty         Husband   \n",
      "45131   Married-civ-spouse               Sales         Husband   \n",
      "45140   Married-civ-spouse   Machine-op-inspct         Husband   \n",
      "45151   Married-civ-spouse    Transport-moving         Husband   \n",
      "45154   Married-civ-spouse        Tech-support            Wife   \n",
      "45160   Married-civ-spouse     Exec-managerial         Husband   \n",
      "45163             Divorced               Sales       Unmarried   \n",
      "45169             Divorced        Craft-repair   Not-in-family   \n",
      "45170   Married-civ-spouse      Prof-specialty            Wife   \n",
      "45173   Married-civ-spouse    Transport-moving         Husband   \n",
      "45176   Married-civ-spouse        Craft-repair            Wife   \n",
      "45182   Married-civ-spouse      Prof-specialty         Husband   \n",
      "45184   Married-civ-spouse      Prof-specialty         Husband   \n",
      "45188   Married-civ-spouse               Sales         Husband   \n",
      "45189   Married-civ-spouse               Sales         Husband   \n",
      "45194   Married-civ-spouse     Exec-managerial         Husband   \n",
      "45195   Married-civ-spouse      Prof-specialty         Husband   \n",
      "45197   Married-civ-spouse      Prof-specialty         Husband   \n",
      "45198   Married-civ-spouse     Exec-managerial         Husband   \n",
      "45204   Married-civ-spouse      Prof-specialty         Husband   \n",
      "45221   Married-civ-spouse     Exec-managerial         Husband   \n",
      "\n",
      "                      race      sex  capital-gain  capital-loss  \\\n",
      "7                    White     Male           0.0           0.0   \n",
      "8                    White   Female       14084.0           0.0   \n",
      "9                    White     Male        5178.0           0.0   \n",
      "10                   Black     Male           0.0           0.0   \n",
      "11      Asian-Pac-Islander     Male           0.0           0.0   \n",
      "18                   White   Female           0.0           0.0   \n",
      "19                   White     Male           0.0           0.0   \n",
      "24                   White     Male           0.0           0.0   \n",
      "42                   Black     Male           0.0           0.0   \n",
      "48                   White   Female           0.0        1902.0   \n",
      "49                   White     Male           0.0           0.0   \n",
      "51                   White     Male           0.0           0.0   \n",
      "58                   White     Male           0.0           0.0   \n",
      "62                   White   Female           0.0           0.0   \n",
      "63                   White     Male           0.0           0.0   \n",
      "66                   White     Male           0.0           0.0   \n",
      "77                   White   Female       14344.0           0.0   \n",
      "79                   White     Male           0.0           0.0   \n",
      "82                   White   Female           0.0           0.0   \n",
      "86                   White     Male           0.0           0.0   \n",
      "88                   White     Male           0.0        1902.0   \n",
      "89                   White     Male           0.0           0.0   \n",
      "92                   White     Male           0.0           0.0   \n",
      "93                   White     Male       15024.0           0.0   \n",
      "97                   White     Male        7688.0           0.0   \n",
      "102                  White     Male           0.0           0.0   \n",
      "103                  White     Male           0.0        1887.0   \n",
      "108                  Black     Male           0.0           0.0   \n",
      "114                  White     Male           0.0           0.0   \n",
      "116                  White   Female           0.0           0.0   \n",
      "...                    ...      ...           ...           ...   \n",
      "45104                White     Male           0.0        1902.0   \n",
      "45107                White     Male           0.0           0.0   \n",
      "45108                White     Male           0.0           0.0   \n",
      "45111                White     Male           0.0        1902.0   \n",
      "45120                White     Male           0.0           0.0   \n",
      "45121                White     Male           0.0        1902.0   \n",
      "45125                White     Male           0.0           0.0   \n",
      "45126                White   Female           0.0           0.0   \n",
      "45127                White     Male           0.0           0.0   \n",
      "45130                White     Male        3103.0           0.0   \n",
      "45131                White     Male       15024.0           0.0   \n",
      "45140                White     Male           0.0           0.0   \n",
      "45151                White     Male           0.0           0.0   \n",
      "45154   Asian-Pac-Islander   Female        4386.0           0.0   \n",
      "45160                White     Male           0.0           0.0   \n",
      "45163                White     Male           0.0           0.0   \n",
      "45169                White     Male       27828.0           0.0   \n",
      "45170                White   Female           0.0           0.0   \n",
      "45173                Black     Male           0.0           0.0   \n",
      "45176                White   Female           0.0           0.0   \n",
      "45182                White     Male           0.0           0.0   \n",
      "45184                White     Male        7688.0           0.0   \n",
      "45188                White     Male        5178.0           0.0   \n",
      "45189                White     Male           0.0           0.0   \n",
      "45194                White     Male           0.0           0.0   \n",
      "45195                White     Male        7688.0           0.0   \n",
      "45197                White     Male           0.0           0.0   \n",
      "45198                White     Male           0.0        1902.0   \n",
      "45204                White     Male       15024.0           0.0   \n",
      "45221                White     Male           0.0           0.0   \n",
      "\n",
      "       hours-per-week  native-country income  \n",
      "7                45.0   United-States   >50K  \n",
      "8                50.0   United-States   >50K  \n",
      "9                40.0   United-States   >50K  \n",
      "10               80.0   United-States   >50K  \n",
      "11               40.0           India   >50K  \n",
      "18               45.0   United-States   >50K  \n",
      "19               60.0   United-States   >50K  \n",
      "24               40.0   United-States   >50K  \n",
      "42               40.0   United-States   >50K  \n",
      "48               60.0        Honduras   >50K  \n",
      "49               55.0   United-States   >50K  \n",
      "51               40.0   United-States   >50K  \n",
      "58               45.0   United-States   >50K  \n",
      "62               40.0   United-States   >50K  \n",
      "63               50.0   United-States   >50K  \n",
      "66               70.0   United-States   >50K  \n",
      "77               40.0   United-States   >50K  \n",
      "79               40.0   United-States   >50K  \n",
      "82               50.0   United-States   >50K  \n",
      "86               40.0   United-States   >50K  \n",
      "88               60.0   United-States   >50K  \n",
      "89               48.0   United-States   >50K  \n",
      "92               40.0   United-States   >50K  \n",
      "93               60.0   United-States   >50K  \n",
      "97               40.0   United-States   >50K  \n",
      "102              40.0   United-States   >50K  \n",
      "103              50.0          Canada   >50K  \n",
      "108              40.0   United-States   >50K  \n",
      "114              50.0   United-States   >50K  \n",
      "116              40.0   United-States   >50K  \n",
      "...               ...             ...    ...  \n",
      "45104            50.0   United-States   >50K  \n",
      "45107            40.0   United-States   >50K  \n",
      "45108            45.0   United-States   >50K  \n",
      "45111            65.0   United-States   >50K  \n",
      "45120            45.0   United-States   >50K  \n",
      "45121            40.0   United-States   >50K  \n",
      "45125            40.0   United-States   >50K  \n",
      "45126            20.0   United-States   >50K  \n",
      "45127            50.0   United-States   >50K  \n",
      "45130            40.0   United-States   >50K  \n",
      "45131            60.0   United-States   >50K  \n",
      "45140            40.0   United-States   >50K  \n",
      "45151            44.0   United-States   >50K  \n",
      "45154            45.0   United-States   >50K  \n",
      "45160            60.0   United-States   >50K  \n",
      "45163            50.0   United-States   >50K  \n",
      "45169            16.0   United-States   >50K  \n",
      "45170            40.0            Peru   >50K  \n",
      "45173            40.0   United-States   >50K  \n",
      "45176            40.0   United-States   >50K  \n",
      "45182            80.0   United-States   >50K  \n",
      "45184            60.0   United-States   >50K  \n",
      "45188            60.0   United-States   >50K  \n",
      "45189            40.0   United-States   >50K  \n",
      "45194            40.0          Canada   >50K  \n",
      "45195            40.0   United-States   >50K  \n",
      "45197            50.0   United-States   >50K  \n",
      "45198            50.0   United-States   >50K  \n",
      "45204            55.0   United-States   >50K  \n",
      "45221            60.0   United-States   >50K  \n",
      "\n",
      "[11208 rows x 14 columns]\n",
      "Individuals making at most $50,000:        age          workclass education_level  education-num  \\\n",
      "0       39          State-gov       Bachelors           13.0   \n",
      "1       50   Self-emp-not-inc       Bachelors           13.0   \n",
      "2       38            Private         HS-grad            9.0   \n",
      "3       53            Private            11th            7.0   \n",
      "4       28            Private       Bachelors           13.0   \n",
      "5       37            Private         Masters           14.0   \n",
      "6       49            Private             9th            5.0   \n",
      "12      23            Private       Bachelors           13.0   \n",
      "13      32            Private      Assoc-acdm           12.0   \n",
      "14      34            Private         7th-8th            4.0   \n",
      "15      25   Self-emp-not-inc         HS-grad            9.0   \n",
      "16      32            Private         HS-grad            9.0   \n",
      "17      38            Private            11th            7.0   \n",
      "20      54            Private         HS-grad            9.0   \n",
      "21      35        Federal-gov             9th            5.0   \n",
      "22      43            Private            11th            7.0   \n",
      "23      59            Private         HS-grad            9.0   \n",
      "25      19            Private         HS-grad            9.0   \n",
      "26      39            Private         HS-grad            9.0   \n",
      "27      49            Private         HS-grad            9.0   \n",
      "28      23          Local-gov      Assoc-acdm           12.0   \n",
      "29      20            Private    Some-college           10.0   \n",
      "30      45            Private       Bachelors           13.0   \n",
      "31      30        Federal-gov    Some-college           10.0   \n",
      "32      22          State-gov    Some-college           10.0   \n",
      "33      48            Private            11th            7.0   \n",
      "34      21            Private    Some-college           10.0   \n",
      "35      19            Private         HS-grad            9.0   \n",
      "36      48   Self-emp-not-inc      Assoc-acdm           12.0   \n",
      "37      31            Private             9th            5.0   \n",
      "...    ...                ...             ...            ...   \n",
      "45183   21            Private         HS-grad            9.0   \n",
      "45185   51            Private       Bachelors           13.0   \n",
      "45186   37        Federal-gov         Masters           14.0   \n",
      "45187   42            Private       Assoc-voc           11.0   \n",
      "45190   19            Private             9th            5.0   \n",
      "45191   24            Private            11th            7.0   \n",
      "45192   25            Private         HS-grad            9.0   \n",
      "45193   31            Private         HS-grad            9.0   \n",
      "45196   39            Private       Bachelors           13.0   \n",
      "45199   23            Private         HS-grad            9.0   \n",
      "45200   73       Self-emp-inc    Some-college           10.0   \n",
      "45201   35            Private    Some-college           10.0   \n",
      "45202   66            Private         HS-grad            9.0   \n",
      "45203   27            Private    Some-college           10.0   \n",
      "45205   51            Private         HS-grad            9.0   \n",
      "45206   22            Private    Some-college           10.0   \n",
      "45207   64   Self-emp-not-inc         HS-grad            9.0   \n",
      "45208   55            Private         HS-grad            9.0   \n",
      "45209   38            Private       Assoc-voc           11.0   \n",
      "45210   58            Private      Assoc-acdm           12.0   \n",
      "45211   32            Private         HS-grad            9.0   \n",
      "45212   48            Private         HS-grad            9.0   \n",
      "45213   61            Private         HS-grad            9.0   \n",
      "45214   31            Private         HS-grad            9.0   \n",
      "45215   25            Private         HS-grad            9.0   \n",
      "45216   48          Local-gov         Masters           14.0   \n",
      "45217   33            Private       Bachelors           13.0   \n",
      "45218   39            Private       Bachelors           13.0   \n",
      "45219   38            Private       Bachelors           13.0   \n",
      "45220   44            Private       Bachelors           13.0   \n",
      "\n",
      "               marital-status          occupation     relationship  \\\n",
      "0               Never-married        Adm-clerical    Not-in-family   \n",
      "1          Married-civ-spouse     Exec-managerial          Husband   \n",
      "2                    Divorced   Handlers-cleaners    Not-in-family   \n",
      "3          Married-civ-spouse   Handlers-cleaners          Husband   \n",
      "4          Married-civ-spouse      Prof-specialty             Wife   \n",
      "5          Married-civ-spouse     Exec-managerial             Wife   \n",
      "6       Married-spouse-absent       Other-service    Not-in-family   \n",
      "12              Never-married        Adm-clerical        Own-child   \n",
      "13              Never-married               Sales    Not-in-family   \n",
      "14         Married-civ-spouse    Transport-moving          Husband   \n",
      "15              Never-married     Farming-fishing        Own-child   \n",
      "16              Never-married   Machine-op-inspct        Unmarried   \n",
      "17         Married-civ-spouse               Sales          Husband   \n",
      "20                  Separated       Other-service        Unmarried   \n",
      "21         Married-civ-spouse     Farming-fishing          Husband   \n",
      "22         Married-civ-spouse    Transport-moving          Husband   \n",
      "23                   Divorced        Tech-support        Unmarried   \n",
      "25              Never-married        Craft-repair        Own-child   \n",
      "26                   Divorced     Exec-managerial    Not-in-family   \n",
      "27         Married-civ-spouse        Craft-repair          Husband   \n",
      "28              Never-married     Protective-serv    Not-in-family   \n",
      "29              Never-married               Sales        Own-child   \n",
      "30                   Divorced     Exec-managerial        Own-child   \n",
      "31         Married-civ-spouse        Adm-clerical        Own-child   \n",
      "32         Married-civ-spouse       Other-service          Husband   \n",
      "33              Never-married   Machine-op-inspct        Unmarried   \n",
      "34              Never-married   Machine-op-inspct        Own-child   \n",
      "35          Married-AF-spouse        Adm-clerical             Wife   \n",
      "36         Married-civ-spouse      Prof-specialty          Husband   \n",
      "37         Married-civ-spouse   Machine-op-inspct          Husband   \n",
      "...                       ...                 ...              ...   \n",
      "45183           Never-married   Handlers-cleaners        Own-child   \n",
      "45185                Divorced        Tech-support    Not-in-family   \n",
      "45186           Never-married        Adm-clerical    Not-in-family   \n",
      "45187      Married-civ-spouse        Adm-clerical          Husband   \n",
      "45190           Never-married        Craft-repair        Own-child   \n",
      "45191               Separated        Craft-repair    Not-in-family   \n",
      "45192                Divorced   Machine-op-inspct    Not-in-family   \n",
      "45193           Never-married   Machine-op-inspct    Not-in-family   \n",
      "45196           Never-married        Tech-support    Not-in-family   \n",
      "45199           Never-married   Machine-op-inspct        Own-child   \n",
      "45200                Divorced     Exec-managerial    Not-in-family   \n",
      "45201      Married-civ-spouse     Protective-serv          Husband   \n",
      "45202                 Widowed               Sales   Other-relative   \n",
      "45203           Never-married               Sales    Not-in-family   \n",
      "45205      Married-civ-spouse        Craft-repair          Husband   \n",
      "45206           Never-married        Craft-repair        Own-child   \n",
      "45207                 Widowed     Farming-fishing    Not-in-family   \n",
      "45208               Separated     Priv-house-serv    Not-in-family   \n",
      "45209           Never-married        Adm-clerical        Unmarried   \n",
      "45210                Divorced      Prof-specialty    Not-in-family   \n",
      "45211      Married-civ-spouse   Handlers-cleaners          Husband   \n",
      "45212      Married-civ-spouse        Adm-clerical          Husband   \n",
      "45213      Married-civ-spouse               Sales          Husband   \n",
      "45214      Married-civ-spouse        Craft-repair          Husband   \n",
      "45215           Never-married       Other-service        Own-child   \n",
      "45216                Divorced       Other-service    Not-in-family   \n",
      "45217           Never-married      Prof-specialty        Own-child   \n",
      "45218                Divorced      Prof-specialty    Not-in-family   \n",
      "45219      Married-civ-spouse      Prof-specialty          Husband   \n",
      "45220                Divorced        Adm-clerical        Own-child   \n",
      "\n",
      "                      race      sex  capital-gain  capital-loss  \\\n",
      "0                    White     Male        2174.0           0.0   \n",
      "1                    White     Male           0.0           0.0   \n",
      "2                    White     Male           0.0           0.0   \n",
      "3                    Black     Male           0.0           0.0   \n",
      "4                    Black   Female           0.0           0.0   \n",
      "5                    White   Female           0.0           0.0   \n",
      "6                    Black   Female           0.0           0.0   \n",
      "12                   White   Female           0.0           0.0   \n",
      "13                   Black     Male           0.0           0.0   \n",
      "14      Amer-Indian-Eskimo     Male           0.0           0.0   \n",
      "15                   White     Male           0.0           0.0   \n",
      "16                   White     Male           0.0           0.0   \n",
      "17                   White     Male           0.0           0.0   \n",
      "20                   Black   Female           0.0           0.0   \n",
      "21                   Black     Male           0.0           0.0   \n",
      "22                   White     Male           0.0        2042.0   \n",
      "23                   White   Female           0.0           0.0   \n",
      "25                   White     Male           0.0           0.0   \n",
      "26                   White     Male           0.0           0.0   \n",
      "27                   White     Male           0.0           0.0   \n",
      "28                   White     Male           0.0           0.0   \n",
      "29                   Black     Male           0.0           0.0   \n",
      "30                   White     Male           0.0        1408.0   \n",
      "31                   White     Male           0.0           0.0   \n",
      "32                   Black     Male           0.0           0.0   \n",
      "33                   White     Male           0.0           0.0   \n",
      "34                   White     Male           0.0           0.0   \n",
      "35                   White   Female           0.0           0.0   \n",
      "36                   White     Male           0.0           0.0   \n",
      "37                   White     Male           0.0           0.0   \n",
      "...                    ...      ...           ...           ...   \n",
      "45183                White   Female           0.0           0.0   \n",
      "45185                White     Male           0.0        1590.0   \n",
      "45186                White     Male           0.0           0.0   \n",
      "45187                White     Male           0.0           0.0   \n",
      "45190                White     Male           0.0           0.0   \n",
      "45191                White     Male           0.0           0.0   \n",
      "45192                Black     Male           0.0           0.0   \n",
      "45193                White     Male           0.0           0.0   \n",
      "45196                White   Female           0.0        1669.0   \n",
      "45199                White     Male           0.0           0.0   \n",
      "45200                White   Female           0.0           0.0   \n",
      "45201                White     Male           0.0           0.0   \n",
      "45202                White   Female           0.0           0.0   \n",
      "45203                White   Female           0.0           0.0   \n",
      "45205                White     Male           0.0           0.0   \n",
      "45206                White     Male           0.0           0.0   \n",
      "45207                White     Male           0.0           0.0   \n",
      "45208                White   Female           0.0           0.0   \n",
      "45209                Black   Female           0.0           0.0   \n",
      "45210                White     Male           0.0           0.0   \n",
      "45211                White     Male           0.0           0.0   \n",
      "45212                White     Male           0.0           0.0   \n",
      "45213                White     Male           0.0           0.0   \n",
      "45214                White     Male           0.0           0.0   \n",
      "45215                White   Female           0.0           0.0   \n",
      "45216                White     Male           0.0           0.0   \n",
      "45217                White     Male           0.0           0.0   \n",
      "45218                White   Female           0.0           0.0   \n",
      "45219                White     Male           0.0           0.0   \n",
      "45220   Asian-Pac-Islander     Male        5455.0           0.0   \n",
      "\n",
      "       hours-per-week  native-country income  \n",
      "0                40.0   United-States  <=50K  \n",
      "1                13.0   United-States  <=50K  \n",
      "2                40.0   United-States  <=50K  \n",
      "3                40.0   United-States  <=50K  \n",
      "4                40.0            Cuba  <=50K  \n",
      "5                40.0   United-States  <=50K  \n",
      "6                16.0         Jamaica  <=50K  \n",
      "12               30.0   United-States  <=50K  \n",
      "13               50.0   United-States  <=50K  \n",
      "14               45.0          Mexico  <=50K  \n",
      "15               35.0   United-States  <=50K  \n",
      "16               40.0   United-States  <=50K  \n",
      "17               50.0   United-States  <=50K  \n",
      "20               20.0   United-States  <=50K  \n",
      "21               40.0   United-States  <=50K  \n",
      "22               40.0   United-States  <=50K  \n",
      "23               40.0   United-States  <=50K  \n",
      "25               40.0   United-States  <=50K  \n",
      "26               80.0   United-States  <=50K  \n",
      "27               40.0   United-States  <=50K  \n",
      "28               52.0   United-States  <=50K  \n",
      "29               44.0   United-States  <=50K  \n",
      "30               40.0   United-States  <=50K  \n",
      "31               40.0   United-States  <=50K  \n",
      "32               15.0   United-States  <=50K  \n",
      "33               40.0     Puerto-Rico  <=50K  \n",
      "34               40.0   United-States  <=50K  \n",
      "35               25.0   United-States  <=50K  \n",
      "36               40.0   United-States  <=50K  \n",
      "37               43.0   United-States  <=50K  \n",
      "...               ...             ...    ...  \n",
      "45183            30.0   United-States  <=50K  \n",
      "45185            40.0   United-States  <=50K  \n",
      "45186            42.0   United-States  <=50K  \n",
      "45187            50.0   United-States  <=50K  \n",
      "45190            20.0   United-States  <=50K  \n",
      "45191            40.0          Mexico  <=50K  \n",
      "45192            40.0   United-States  <=50K  \n",
      "45193            40.0   United-States  <=50K  \n",
      "45196            40.0   United-States  <=50K  \n",
      "45199            40.0   United-States  <=50K  \n",
      "45200            40.0   United-States  <=50K  \n",
      "45201            40.0   United-States  <=50K  \n",
      "45202             8.0   United-States  <=50K  \n",
      "45203            45.0   United-States  <=50K  \n",
      "45205            40.0   United-States  <=50K  \n",
      "45206            40.0   United-States  <=50K  \n",
      "45207            32.0   United-States  <=50K  \n",
      "45208            32.0   United-States  <=50K  \n",
      "45209            40.0   United-States  <=50K  \n",
      "45210            36.0   United-States  <=50K  \n",
      "45211            40.0   United-States  <=50K  \n",
      "45212            40.0   United-States  <=50K  \n",
      "45213            48.0   United-States  <=50K  \n",
      "45214            40.0   United-States  <=50K  \n",
      "45215            40.0   United-States  <=50K  \n",
      "45216            40.0   United-States  <=50K  \n",
      "45217            40.0   United-States  <=50K  \n",
      "45218            36.0   United-States  <=50K  \n",
      "45219            50.0   United-States  <=50K  \n",
      "45220            40.0   United-States  <=50K  \n",
      "\n",
      "[34014 rows x 14 columns]\n",
      "Percentage of individuals making more than $50,000: 0.33%\n"
     ]
    }
   ],
   "source": [
    "# TODO: Total number of records\n",
    "n_records = data.shape[0]\n",
    "\n",
    "# TODO: Number of records where individual's income is more than $50,000\n",
    "n_greater_50k = data[data['income'] == '>50K']\n",
    "\n",
    "# TODO: Number of records where individual's income is at most $50,000\n",
    "n_at_most_50k = data[data['income'] == '<=50K']\n",
    "\n",
    "# TODO: Percentage of individuals whose income is more than $50,000\n",
    "greater_percent = n_greater_50k.size / float(n_at_most_50k.size)\n",
    "\n",
    "# Print the results\n",
    "print \"Total number of records: {}\".format(n_records)\n",
    "print \"Individuals making more than $50,000: {}\".format(n_greater_50k)\n",
    "print \"Individuals making at most $50,000: {}\".format(n_at_most_50k)\n",
    "print \"Percentage of individuals making more than $50,000: {:.2f}%\".format(greater_percent)"
   ]
  },
  {
   "cell_type": "markdown",
   "metadata": {
    "deletable": true,
    "editable": true
   },
   "source": [
    "----\n",
    "## Preparing the Data\n",
    "Before data can be used as input for machine learning algorithms, it often must be cleaned, formatted, and restructured — this is typically known as **preprocessing**. Fortunately, for this dataset, there are no invalid or missing entries we must deal with, however, there are some qualities about certain features that must be adjusted. This preprocessing can help tremendously with the outcome and predictive power of nearly all learning algorithms."
   ]
  },
  {
   "cell_type": "markdown",
   "metadata": {
    "deletable": true,
    "editable": true
   },
   "source": [
    "### Transforming Skewed Continuous Features\n",
    "A dataset may sometimes contain at least one feature whose values tend to lie near a single number, but will also have a non-trivial number of vastly larger or smaller values than that single number.  Algorithms can be sensitive to such distributions of values and can underperform if the range is not properly normalized. With the census dataset two features fit this description: '`capital-gain'` and `'capital-loss'`. \n",
    "\n",
    "Run the code cell below to plot a histogram of these two features. Note the range of the values present and how they are distributed."
   ]
  },
  {
   "cell_type": "code",
   "execution_count": 6,
   "metadata": {
    "collapsed": false,
    "deletable": true,
    "editable": true
   },
   "outputs": [
    {
     "data": {
      "image/png": "[encoded data removed]",
      "text/plain": [
       "<matplotlib.figure.Figure at 0x106881e10>"
      ]
     },
     "metadata": {},
     "output_type": "display_data"
    }
   ],
   "source": [
    "# Split the data into features and target label\n",
    "income_raw = data['income']\n",
    "features_raw = data.drop('income', axis = 1)\n",
    "\n",
    "# Visualize skewed continuous features of original data\n",
    "vs.distribution(data)"
   ]
  },
  {
   "cell_type": "markdown",
   "metadata": {
    "deletable": true,
    "editable": true
   },
   "source": [
    "For highly-skewed feature distributions such as `'capital-gain'` and `'capital-loss'`, it is common practice to apply a <a href=\"https://en.wikipedia.org/wiki/Data_transformation_(statistics)\">logarithmic transformation</a> on the data so that the very large and very small values do not negatively affect the performance of a learning algorithm. Using a logarithmic transformation significantly reduces the range of values caused by outliers. Care must be taken when applying this transformation however: The logarithm of `0` is undefined, so we must translate the values by a small amount above `0` to apply the the logarithm successfully.\n",
    "\n",
    "Run the code cell below to perform a transformation on the data and visualize the results. Again, note the range of values and how they are distributed. "
   ]
  },
  {
   "cell_type": "code",
   "execution_count": 7,
   "metadata": {
    "collapsed": false,
    "deletable": true,
    "editable": true
   },
   "outputs": [
    {
     "data": {
      "image/png": "[encoded data removed]",
      "text/plain": [
       "<matplotlib.figure.Figure at 0x102beb0d0>"
      ]
     },
     "metadata": {},
     "output_type": "display_data"
    }
   ],
   "source": [
    "# Log-transform the skewed features\n",
    "skewed = ['capital-gain', 'capital-loss']\n",
    "features_raw[skewed] = data[skewed].apply(lambda x: np.log(x + 1))\n",
    "\n",
    "# Visualize the new log distributions\n",
    "vs.distribution(features_raw, transformed = True)"
   ]
  },
  {
   "cell_type": "markdown",
   "metadata": {
    "deletable": true,
    "editable": true
   },
   "source": [
    "### Normalizing Numerical Features\n",
    "In addition to performing transformations on features that are highly skewed, it is often good practice to perform some type of scaling on numerical features. Applying a scaling to the data does not change the shape of each feature's distribution (such as `'capital-gain'` or `'capital-loss'` above); however, normalization ensures that each feature is treated equally when applying supervised learners. Note that once scaling is applied, observing the data in its raw form will no longer have the same original meaning, as exampled below.\n",
    "\n",
    "Run the code cell below to normalize each numerical feature. We will use [`sklearn.preprocessing.MinMaxScaler`](http://scikit-learn.org/stable/modules/generated/sklearn.preprocessing.MinMaxScaler.html) for this."
   ]
  },
  {
   "cell_type": "code",
   "execution_count": 8,
   "metadata": {
    "collapsed": false,
    "deletable": true,
    "editable": true
   },
   "outputs": [
    {
     "data": {
      "text/html": [
       "<div>\n",
       "<table border=\"1\" class=\"dataframe\">\n",
       "  <thead>\n",
       "    <tr style=\"text-align: right;\">\n",
       "      <th></th>\n",
       "      <th>age</th>\n",
       "      <th>workclass</th>\n",
       "      <th>education_level</th>\n",
       "      <th>education-num</th>\n",
       "      <th>marital-status</th>\n",
       "      <th>occupation</th>\n",
       "      <th>relationship</th>\n",
       "      <th>race</th>\n",
       "      <th>sex</th>\n",
       "      <th>capital-gain</th>\n",
       "      <th>capital-loss</th>\n",
       "      <th>hours-per-week</th>\n",
       "      <th>native-country</th>\n",
       "    </tr>\n",
       "  </thead>\n",
       "  <tbody>\n",
       "    <tr>\n",
       "      <th>0</th>\n",
       "      <td>0.30137</td>\n",
       "      <td>State-gov</td>\n",
       "      <td>Bachelors</td>\n",
       "      <td>0.8</td>\n",
       "      <td>Never-married</td>\n",
       "      <td>Adm-clerical</td>\n",
       "      <td>Not-in-family</td>\n",
       "      <td>White</td>\n",
       "      <td>Male</td>\n",
       "      <td>0.02174</td>\n",
       "      <td>0.0</td>\n",
       "      <td>0.397959</td>\n",
       "      <td>United-States</td>\n",
       "    </tr>\n",
       "  </tbody>\n",
       "</table>\n",
       "</div>"
      ],
      "text/plain": [
       "       age   workclass education_level  education-num  marital-status  \\\n",
       "0  0.30137   State-gov       Bachelors            0.8   Never-married   \n",
       "\n",
       "      occupation    relationship    race    sex  capital-gain  capital-loss  \\\n",
       "0   Adm-clerical   Not-in-family   White   Male       0.02174           0.0   \n",
       "\n",
       "   hours-per-week  native-country  \n",
       "0        0.397959   United-States  "
      ]
     },
     "metadata": {},
     "output_type": "display_data"
    }
   ],
   "source": [
    "# Import sklearn.preprocessing.StandardScaler\n",
    "from sklearn.preprocessing import MinMaxScaler\n",
    "\n",
    "# Initialize a scaler, then apply it to the features\n",
    "scaler = MinMaxScaler()\n",
    "numerical = ['age', 'education-num', 'capital-gain', 'capital-loss', 'hours-per-week']\n",
    "features_raw[numerical] = scaler.fit_transform(data[numerical])\n",
    "\n",
    "# Show an example of a record with scaling applied\n",
    "display(features_raw.head(n = 1))"
   ]
  },
  {
   "cell_type": "markdown",
   "metadata": {
    "deletable": true,
    "editable": true
   },
   "source": [
    "### Implementation: Data Preprocessing\n",
    "\n",
    "From the table in **Exploring the Data** above, we can see there are several features for each record that are non-numeric. Typically, learning algorithms expect input to be numeric, which requires that non-numeric features (called *categorical variables*) be converted. One popular way to convert categorical variables is by using the **one-hot encoding** scheme. One-hot encoding creates a _\"dummy\"_ variable for each possible category of each non-numeric feature. For example, assume `someFeature` has three possible entries: `A`, `B`, or `C`. We then encode this feature into `someFeature_A`, `someFeature_B` and `someFeature_C`.\n",
    "\n",
    "|   | someFeature |                    | someFeature_A | someFeature_B | someFeature_C |\n",
    "| :-: | :-: |                            | :-: | :-: | :-: |\n",
    "| 0 |  B  |  | 0 | 1 | 0 |\n",
    "| 1 |  C  | ----> one-hot encode ----> | 0 | 0 | 1 |\n",
    "| 2 |  A  |  | 1 | 0 | 0 |\n",
    "\n",
    "Additionally, as with the non-numeric features, we need to convert the non-numeric target label, `'income'` to numerical values for the learning algorithm to work. Since there are only two possible categories for this label (\"<=50K\" and \">50K\"), we can avoid using one-hot encoding and simply encode these two categories as `0` and `1`, respectively. In code cell below, you will need to implement the following:\n",
    " - Use [`pandas.get_dummies()`](http://pandas.pydata.org/pandas-docs/stable/generated/pandas.get_dummies.html?highlight=get_dummies#pandas.get_dummies) to perform one-hot encoding on the `'features_raw'` data.\n",
    " - Convert the target label `'income_raw'` to numerical entries.\n",
    "   - Set records with \"<=50K\" to `0` and records with \">50K\" to `1`."
   ]
  },
  {
   "cell_type": "code",
   "execution_count": 9,
   "metadata": {
    "collapsed": false,
    "deletable": true,
    "editable": true,
    "scrolled": true
   },
   "outputs": [
    {
     "name": "stdout",
     "output_type": "stream",
     "text": [
      "103 total features after one-hot encoding.\n"
     ]
    }
   ],
   "source": [
    "# TODO: One-hot encode the 'features_raw' data using pandas.get_dummies()\n",
    "features = pd.get_dummies(features_raw)\n",
    "\n",
    "# TODO: Encode the 'income_raw' data to numerical values\n",
    "income = [int(i == \">50K\") for i in income_raw]\n",
    "\n",
    "# Print the number of features after one-hot encoding\n",
    "encoded = list(features.columns)\n",
    "print \"{} total features after one-hot encoding.\".format(len(encoded))\n",
    "\n",
    "# Uncomment the following line to see the encoded feature names\n",
    "#print income"
   ]
  },
  {
   "cell_type": "markdown",
   "metadata": {
    "deletable": true,
    "editable": true
   },
   "source": [
    "### Shuffle and Split Data\n",
    "Now all _categorical variables_ have been converted into numerical features, and all numerical features have been normalized. As always, we will now split the data (both features and their labels) into training and test sets. 80% of the data will be used for training and 20% for testing.\n",
    "\n",
    "Run the code cell below to perform this split."
   ]
  },
  {
   "cell_type": "code",
   "execution_count": 13,
   "metadata": {
    "collapsed": false,
    "deletable": true,
    "editable": true
   },
   "outputs": [
    {
     "name": "stdout",
     "output_type": "stream",
     "text": [
      "Training set has 36177 samples.\n",
      "Testing set has 9045 samples.\n",
      "3726231 (36177, 103)\n"
     ]
    }
   ],
   "source": [
    "# Import train_test_split\n",
    "from sklearn.cross_validation import train_test_split\n",
    "\n",
    "# Split the 'features' and 'income' data into training and testing sets\n",
    "X_train, X_test, y_train, y_test = train_test_split(features, income, test_size = 0.2, random_state = 0)\n",
    "\n",
    "# Show the results of the split\n",
    "print \"Training set has {} samples.\".format(X_train.shape[0])\n",
    "print \"Testing set has {} samples.\".format(X_test.shape[0])\n"
   ]
  },
  {
   "cell_type": "markdown",
   "metadata": {
    "deletable": true,
    "editable": true
   },
   "source": [
    "----\n",
    "## Evaluating Model Performance\n",
    "In this section, we will investigate four different algorithms, and determine which is best at modeling the data. Three of these algorithms will be supervised learners of your choice, and the fourth algorithm is known as a *naive predictor*."
   ]
  },
  {
   "cell_type": "markdown",
   "metadata": {
    "deletable": true,
    "editable": true
   },
   "source": [
    "### Metrics and the Naive Predictor\n",
    "*CharityML*, equipped with their research, knows individuals that make more than \\$50,000 are most likely to donate to their charity. Because of this, *CharityML* is particularly interested in predicting who makes more than \\$50,000 accurately. It would seem that using **accuracy** as a metric for evaluating a particular model's performace would be appropriate. Additionally, identifying someone that *does not* make more than \\$50,000 as someone who does would be detrimental to *CharityML*, since they are looking to find individuals willing to donate. Therefore, a model's ability to precisely predict those that make more than \\$50,000 is *more important* than the model's ability to **recall** those individuals. We can use **F-beta score** as a metric that considers both precision and recall:\n",
    "\n",
    "$$ F_{\\beta} = (1 + \\beta^2) \\cdot \\frac{precision \\cdot recall}{\\left( \\beta^2 \\cdot precision \\right) + recall} $$\n",
    "\n",
    "In particular, when $\\beta = 0.5$, more emphasis is placed on precision. This is called the **F$_{0.5}$ score** (or F-score for simplicity).\n",
    "\n",
    "Looking at the distribution of classes (those who make at most \\$50,000, and those who make more), it's clear most individuals do not make more than \\$50,000. This can greatly affect **accuracy**, since we could simply say *\"this person does not make more than \\$50,000\"* and generally be right, without ever looking at the data! Making such a statement would be called **naive**, since we have not considered any information to substantiate the claim. It is always important to consider the *naive prediction* for your data, to help establish a benchmark for whether a model is performing well. That been said, using that prediction would be pointless: If we predicted all people made less than \\$50,000, *CharityML* would identify no one as donors. "
   ]
  },
  {
   "cell_type": "markdown",
   "metadata": {
    "deletable": true,
    "editable": true
   },
   "source": [
    "### Question 1 - Naive Predictor Performace\n",
    "*If we chose a model that always predicted an individual made more than \\$50,000, what would that model's accuracy and F-score be on this dataset?*  \n",
    "**Note:** You must use the code cell below and assign your results to `'accuracy'` and `'fscore'` to be used later."
   ]
  },
  {
   "cell_type": "code",
   "execution_count": 11,
   "metadata": {
    "collapsed": false,
    "deletable": true,
    "editable": true
   },
   "outputs": [
    {
     "name": "stdout",
     "output_type": "stream",
     "text": [
      "Naive Predictor: [Accuracy score: 0.2478, F-score: 0.2917]\n"
     ]
    }
   ],
   "source": [
    "# TODO: Calculate accuracy\n",
    "from sklearn.metrics import accuracy_score\n",
    "accuracy = n_greater_50k.size / float(n_records)\n",
    "accuracy = accuracy_score(income, [1 for i in range(0, len(income))]  )\n",
    "\n",
    "true_positives_size = n_greater_50k.size\n",
    "false_positives_size = n_records - true_positives_size\n",
    "false_negatives_size = 0\n",
    "\n",
    "\n",
    "precision = accuracy\n",
    "recall = 1\n",
    "\n",
    "# TODO: Calculate F-score using the formula above for beta = 0.5\n",
    "beta2 = 0.5 ** 2\n",
    "fscore = (1 + beta2) * ((precision * recall) / ((beta2 * precision) + recall))\n",
    "\n",
    "# Print the results \n",
    "print \"Naive Predictor: [Accuracy score: {:.4f}, F-score: {:.4f}]\".format(accuracy, fscore)"
   ]
  },
  {
   "cell_type": "markdown",
   "metadata": {
    "deletable": true,
    "editable": true
   },
   "source": [
    "###  Supervised Learning Models\n",
    "**The following supervised learning models are currently available in** [`scikit-learn`](http://scikit-learn.org/stable/supervised_learning.html) **that you may choose from:**\n",
    "- Gaussian Naive Bayes (GaussianNB)\n",
    "- Decision Trees\n",
    "- Ensemble Methods (Bagging, AdaBoost, Random Forest, Gradient Boosting)\n",
    "- K-Nearest Neighbors (KNeighbors)\n",
    "- Stochastic Gradient Descent Classifier (SGDC)\n",
    "- Support Vector Machines (SVM)\n",
    "- Logistic Regression"
   ]
  },
  {
   "cell_type": "markdown",
   "metadata": {
    "deletable": true,
    "editable": true
   },
   "source": [
    "### Question 2 - Model Application\n",
    "List three of the supervised learning models above that are appropriate for this problem that you will test on the census data. For each model chosen\n",
    "- *Describe one real-world application in industry where the model can be applied.* (You may need to do research for this — give references!)\n",
    "- *What are the strengths of the model; when does it perform well?*\n",
    "- *What are the weaknesses of the model; when does it perform poorly?*\n",
    "- *What makes this model a good candidate for the problem, given what you know about the data?*"
   ]
  },
  {
   "cell_type": "markdown",
   "metadata": {
    "deletable": true,
    "editable": true
   },
   "source": [
    "**Answer: **\n",
    "KNN, SVM, and AdaBoost\n",
    "\n",
    "KNN algorithms are simple to understand and implement. They have a strength in that not much real training time is required, so they perform well in situations where training time is a factor; however, the tradeoff is that prediction requires a lengthy search through the data, so they may be too slow in situations where predictions happen frequently and when there is a large amount of data. This model is a good candidate for the income-prediction problem since we only need to make a prediction once. You might find KNNs in applications where there are few constraints on memory usage, since the KNN model requires a lot of memory to store the data points. You might find KNNs in applications where map proximity is a factor, such as dispatching applications (for example, you might use a KNN in an Uber-like app that chooses a specific taxicab driver and directs him or her to a pickup location).\n",
    "\n",
    "SVM algorithms are more complex, and the classifiers that they find are harder to understand. If the data is linearly separable, they will find a classifier that maximizes the margin between the classes, so they have the strength of being fairly resistant to overfitting. If there is significant overlap between the labelled classes in the training data, however, SVM algorithms may not be able to find a good solution. The usual way to solve this problem is to apply the kernel trick, but there may be cases where a kernel that separates the data can't be found, like if the data is very noisy. Although the data in the case of finding donors might have some overlap in many features, I suspect that there are at least one or two feature dimensions (for example, capital gains) which will differentiate the low-income people from the high-income people. Therefore SVM algorithms seem like a decent choice here. Since SVMs are quick at making predictions, I would guess they could be found in applications where classification time is a factor, such as realtime interactive applications that contain an element of gesture recognition, such as certain Nintendo Wii games.\n",
    "\n",
    "AdaBoost algorithms are ensemble methods designed to work with other classifiers, where the other classifier is treated as a base learner which the AdaBoost algorithm applies over and over again to find a better and better fit. They should only be applied to weak learners, i.e. classifiers that always perform better than random chance at correctly labelling the data—-but if this constraint is satisfied they have the strength that they will improve upon that classifier. AdaBoost is resistant to overfitting except in cases where the base learner is a very strong learner that is also very susceptible to overfitting. I think AdaBoost, in conjunction with some other algorithm, would be a good thing to try on this data. One might find AdaBoost algorithms in almost any application where other machine learning algorithms are used; however, in terms of training time, they will always take longer than the underlying algorithm they are paired with. So in cases where fast training is required they may not be needed."
   ]
  },
  {
   "cell_type": "markdown",
   "metadata": {
    "deletable": true,
    "editable": true
   },
   "source": [
    "### Implementation - Creating a Training and Predicting Pipeline\n",
    "To properly evaluate the performance of each model you've chosen, it's important that you create a training and predicting pipeline that allows you to quickly and effectively train models using various sizes of training data and perform predictions on the testing data. Your implementation here will be used in the following section.\n",
    "In the code block below, you will need to implement the following:\n",
    " - Import `fbeta_score` and `accuracy_score` from [`sklearn.metrics`](http://scikit-learn.org/stable/modules/classes.html#sklearn-metrics-metrics).\n",
    " - Fit the learner to the sampled training data and record the training time.\n",
    " - Perform predictions on the test data `X_test`, and also on the first 300 training points `X_train[:300]`.\n",
    "   - Record the total prediction time.\n",
    " - Calculate the accuracy score for both the training subset and testing set.\n",
    " - Calculate the F-score for both the training subset and testing set.\n",
    "   - Make sure that you set the `beta` parameter!"
   ]
  },
  {
   "cell_type": "code",
   "execution_count": 12,
   "metadata": {
    "collapsed": false,
    "deletable": true,
    "editable": true
   },
   "outputs": [],
   "source": [
    "# TODO: Import two metrics from sklearn - fbeta_score and accuracy_score\n",
    "from sklearn.metrics import fbeta_score, accuracy_score\n",
    "\n",
    "def train_predict(learner, sample_size, X_train, y_train, X_test, y_test): \n",
    "    '''\n",
    "    inputs:\n",
    "       - learner: the learning algorithm to be trained and predicted on\n",
    "       - sample_size: the size of samples (number) to be drawn from training set\n",
    "       - X_train: features training set\n",
    "       - y_train: income training set\n",
    "       - X_test: features testing set\n",
    "       - y_test: income testing set\n",
    "    '''\n",
    "    \n",
    "    results = {}\n",
    "    \n",
    "    # TODO: Fit the learner to the training data using slicing with 'sample_size'\n",
    "    start = time() # Get start time\n",
    "    learner = learner.fit(X_train[:sample_size], y_train[:sample_size])\n",
    "    end = time() # Get end time\n",
    "    \n",
    "    # TODO: Calculate the training time\n",
    "    results['train_time'] = start - end\n",
    "        \n",
    "    # TODO: Get the predictions on the test set,\n",
    "    #       then get predictions on the first 300 training samples\n",
    "    start = time() # Get start time\n",
    "    predictions_test = learner.predict(X_test)\n",
    "    predictions_train = learner.predict(X_train[:300])\n",
    "    end = time() # Get end time\n",
    "    \n",
    "    # TODO: Calculate the total prediction time\n",
    "    results['pred_time'] = end - start\n",
    "            \n",
    "    # TODO: Compute accuracy on the first 300 training samples\n",
    "    results['acc_train'] = accuracy_score(y_train[:300], predictions_train)\n",
    "        \n",
    "    # TODO: Compute accuracy on test set\n",
    "    results['acc_test'] = accuracy_score(y_test, predictions_test)\n",
    "    \n",
    "    # TODO: Compute F-score on the the first 300 training samples\n",
    "    results['f_train'] = fbeta_score(y_train[:300], predictions_train, 0.5)\n",
    "        \n",
    "    # TODO: Compute F-score on the test set\n",
    "    results['f_test'] = fbeta_score(y_test, predictions_test, 0.5)\n",
    "       \n",
    "    # Success\n",
    "    print \"{} trained on {} samples.\".format(learner.__class__.__name__, sample_size)\n",
    "        \n",
    "    # Return the results\n",
    "    return results"
   ]
  },
  {
   "cell_type": "markdown",
   "metadata": {
    "deletable": true,
    "editable": true
   },
   "source": [
    "### Implementation: Initial Model Evaluation\n",
    "In the code cell, you will need to implement the following:\n",
    "- Import the three supervised learning models you've discussed in the previous section.\n",
    "- Initialize the three models and store them in `'clf_A'`, `'clf_B'`, and `'clf_C'`.\n",
    "  - Use a `'random_state'` for each model you use, if provided.\n",
    "  - **Note:** Use the default settings for each model — you will tune one specific model in a later section.\n",
    "- Calculate the number of records equal to 1%, 10%, and 100% of the training data.\n",
    "  - Store those values in `'samples_1'`, `'samples_10'`, and `'samples_100'` respectively.\n",
    "\n",
    "**Note:** Depending on which algorithms you chose, the following implementation may take some time to run!"
   ]
  },
  {
   "cell_type": "code",
   "execution_count": 20,
   "metadata": {
    "collapsed": false,
    "deletable": true,
    "editable": true
   },
   "outputs": [
    {
     "name": "stdout",
     "output_type": "stream",
     "text": [
      "KNeighborsClassifier trained on 361 samples.\n",
      "KNeighborsClassifier trained on 3617 samples.\n",
      "KNeighborsClassifier trained on 36177 samples.\n",
      "SVC trained on 361 samples.\n",
      "SVC trained on 3617 samples.\n",
      "SVC trained on 36177 samples.\n",
      "AdaBoostClassifier trained on 361 samples.\n",
      "AdaBoostClassifier trained on 3617 samples.\n",
      "AdaBoostClassifier trained on 36177 samples.\n",
      "done\n"
     ]
    },
    {
     "data": {
      "image/png": "[encoded data removed]",
      "text/plain": [
       "<matplotlib.figure.Figure at 0x10833f2d0>"
      ]
     },
     "metadata": {},
     "output_type": "display_data"
    }
   ],
   "source": [
    "# TODO: Import the three supervised learning models from sklearn\n",
    "from sklearn.neighbors import KNeighborsClassifier\n",
    "from sklearn.svm import SVC\n",
    "from sklearn.ensemble import AdaBoostClassifier\n",
    "\n",
    "# TODO: Initialize the three models\n",
    "clf_A = KNeighborsClassifier()\n",
    "clf_B = SVC(10, random_state = 20)\n",
    "clf_C = AdaBoostClassifier(random_state = 0)\n",
    "\n",
    "# TODO: Calculate the number of samples for 1%, 10%, and 100% of the training data\n",
    "samples_1 = int(X_train.shape[0] * .01)\n",
    "samples_10 = int(X_train.shape[0] * .1)\n",
    "samples_100 = X_train.shape[0]\n",
    "\n",
    "# Collect results on the learners\n",
    "results = {}\n",
    "#for clf in [clf_A]:\n",
    "\n",
    "for clf in [clf_A, clf_B, clf_C]:\n",
    "    clf_name = clf.__class__.__name__\n",
    "    results[clf_name] = {}\n",
    "    for i, samples in enumerate([samples_1, samples_10, samples_100]):\n",
    "        results[clf_name][i] = train_predict(clf, samples, X_train, y_train, X_test, y_test)\n",
    "\n",
    "print \"done\"\n",
    "# Run metrics visualization for the three supervised learning models chosen\n",
    "vs.evaluate(results, accuracy, fscore)"
   ]
  },
  {
   "cell_type": "markdown",
   "metadata": {
    "deletable": true,
    "editable": true
   },
   "source": [
    "----\n",
    "## Improving Results\n",
    "In this final section, you will choose from the three supervised learning models the *best* model to use on the student data. You will then perform a grid search optimization for the model over the entire training set (`X_train` and `y_train`) by tuning at least one parameter to improve upon the untuned model's F-score. "
   ]
  },
  {
   "cell_type": "markdown",
   "metadata": {
    "deletable": true,
    "editable": true
   },
   "source": [
    "### Question 3 - Choosing the Best Model\n",
    "*Based on the evaluation you performed earlier, in one to two paragraphs, explain to *CharityML* which of the three models you believe to be most appropriate for the task of identifying individuals that make more than \\$50,000.*  \n",
    "**Hint:** Your answer should include discussion of the metrics, prediction/training time, and the algorithm's suitability for the data."
   ]
  },
  {
   "cell_type": "markdown",
   "metadata": {
    "deletable": true,
    "editable": true
   },
   "source": [
    "**Answer: ** According to the evaluation I performed earlier, I would prefer to use the AdaBoost algorithm, using a base learner DecisionTreeClassifier (which is the sklearn AdaBoost default base learner), for identifying the individuals who make more then $50,000 dollars. This combination had the fastest training and prediction time, and it had the best accuracy and f-score across the test data, suggesting it would perform the best at predicting the income class of any future potential donors. The AdaBoost algorithm suits this data since we have a relatively straightforward classification problem; plus, the AdaBoost algorithm would suit any data set that could be handled by other machine learning algorithms, since the AdaBoost simply iterates upon the training of some other algorithm. Of course, if we had to use a base learner algorithm that takes a lot of training time (such as the SVM algorithm shown above), then the AdaBoost algorithm would train even slower. But we shouldn't need to do that very often as very weak (and fast) classifiers perform well under AdaBoost."
   ]
  },
  {
   "cell_type": "markdown",
   "metadata": {
    "deletable": true,
    "editable": true
   },
   "source": [
    "### Question 4 - Describing the Model in Layman's Terms\n",
    "*In one to two paragraphs, explain to *CharityML*, in layman's terms, how the final model chosen is supposed to work. Be sure that you are describing the major qualities of the model, such as how the model is trained and how the model makes a prediction. Avoid using advanced mathematical or technical jargon, such as describing equations or discussing the algorithm implementation.*"
   ]
  },
  {
   "cell_type": "markdown",
   "metadata": {
    "deletable": true,
    "editable": true
   },
   "source": [
    "**Answer: ** First, let me describe the DecisionTreeClassifier (DTC). In this case, the DTC is looking at a bunch of data that is divided into rows (where each row is a person) and columns (where each column is a data \"feature\" such as the person's education level). The DTC works by going through, picking a column, and putting a divider into the column  that splits the people into two groups: those who the DTC thinks has more than 50k, and those who it thinks has less. The first time it does this, it will get a bunch wrong, but since we are feeding it training data where we already know how much everyone makes, it can grade its own performance by simply counting up the number of people that were mislabelled. Then the DTC will go through the dividing process again and again, diving the original set into smaller and smaller groups of people, and labelling each group as belonging to the under-50k group or the over-50k group. By the end, we hope that the DTC isn't labelling very many people incorrectly. But there will still probably be some incorrect labels.\n",
    "\n",
    "So next, we feed the DTC into an AdaBoost model. The AdaBoost will run the DCT repeatedly, causing the DTC to start from scratch each time; BUT each time it runs it, it will tune the DTC so that it cares more about correctly labelling the people that it got wrong in the previous round. So each time, the DTC will divide the groups in subtly different ways, but by the end it will be doing better at labelling the people that it initially had the most trouble in labelling. "
   ]
  },
  {
   "cell_type": "markdown",
   "metadata": {
    "deletable": true,
    "editable": true
   },
   "source": [
    "### Implementation: Model Tuning\n",
    "Fine tune the chosen model. Use grid search (`GridSearchCV`) with at least one important parameter tuned with at least 3 different values. You will need to use the entire training set for this. In the code cell below, you will need to implement the following:\n",
    "- Import [`sklearn.grid_search.GridSearchCV`](http://scikit-learn.org/0.17/modules/generated/sklearn.grid_search.GridSearchCV.html) and [`sklearn.metrics.make_scorer`](http://scikit-learn.org/stable/modules/generated/sklearn.metrics.make_scorer.html).\n",
    "- Initialize the classifier you've chosen and store it in `clf`.\n",
    " - Set a `random_state` if one is available to the same state you set before.\n",
    "- Create a dictionary of parameters you wish to tune for the chosen model.\n",
    " - Example: `parameters = {'parameter' : [list of values]}`.\n",
    " - **Note:** Avoid tuning the `max_features` parameter of your learner if that parameter is available!\n",
    "- Use `make_scorer` to create an `fbeta_score` scoring object (with $\\beta = 0.5$).\n",
    "- Perform grid search on the classifier `clf` using the `'scorer'`, and store it in `grid_obj`.\n",
    "- Fit the grid search object to the training data (`X_train`, `y_train`), and store it in `grid_fit`.\n",
    "\n",
    "**Note:** Depending on the algorithm chosen and the parameter list, the following implementation may take some time to run!"
   ]
  },
  {
   "cell_type": "code",
   "execution_count": 11,
   "metadata": {
    "collapsed": false,
    "deletable": true,
    "editable": true
   },
   "outputs": [
    {
     "name": "stdout",
     "output_type": "stream",
     "text": [
      "working...\n",
      "Unoptimized model\n",
      "------\n",
      "Accuracy score on testing data: 0.8171\n",
      "F-score on testing data: 0.6249\n",
      "\n",
      "Optimized Model\n",
      "------\n",
      "Final accuracy score on the testing data: 0.8701\n",
      "Final F-score on the testing data: 0.7472\n"
     ]
    }
   ],
   "source": [
    "# TODO: Import 'GridSearchCV', 'make_scorer', and any other necessary libraries\n",
    "from sklearn.grid_search import GridSearchCV\n",
    "from sklearn.metrics import make_scorer, fbeta_score\n",
    "from sklearn.ensemble import AdaBoostClassifier\n",
    "from sklearn.tree import DecisionTreeClassifier\n",
    "\n",
    "# TODO: Initialize the classifier\n",
    "clf = AdaBoostClassifier(base_estimator=DecisionTreeClassifier())\n",
    "\n",
    "#print clf.get_params().keys()\n",
    "# TODO: Create the parameters list you wish to tune\n",
    "parameters = {\n",
    "    #'n_estimators': [5,10,50,100],\n",
    "    #'learning_rate': [0.5, 1.0, 2.0, 5.0, 10.0],\n",
    "    'base_estimator__min_samples_split': [2,10,50,100],\n",
    "    'base_estimator__max_depth':[3,10, None]\n",
    "             }\n",
    "\n",
    "# TODO: Make an fbeta_score scoring object\n",
    "scorer = make_scorer(fbeta_score, beta=0.5)\n",
    "\n",
    "# TODO: Perform grid search on the classifier using 'scorer' as the scoring method\n",
    "grid_obj = GridSearchCV(clf, parameters, scoring=scorer)\n",
    "\n",
    "print \"working...\"\n",
    "# TODO: Fit the grid search object to the training data and find the optimal parameters\n",
    "grid_obj.fit(X_train, y_train)\n",
    "grid_fit = grid_obj.best_params_\n",
    "\n",
    "# Get the estimator\n",
    "best_clf = grid_obj.best_estimator_\n",
    "\n",
    "# Make predictions using the unoptimized and model\n",
    "predictions = (clf.fit(X_train, y_train)).predict(X_test)\n",
    "best_predictions = best_clf.predict(X_test)\n",
    "\n",
    "# Report the before-and-afterscores\n",
    "print \"Unoptimized model\\n------\"\n",
    "print \"Accuracy score on testing data: {:.4f}\".format(accuracy_score(y_test, predictions))\n",
    "print \"F-score on testing data: {:.4f}\".format(fbeta_score(y_test, predictions, beta = 0.5))\n",
    "print \"\\nOptimized Model\\n------\"\n",
    "print \"Final accuracy score on the testing data: {:.4f}\".format(accuracy_score(y_test, best_predictions))\n",
    "print \"Final F-score on the testing data: {:.4f}\".format(fbeta_score(y_test, best_predictions, beta = 0.5))"
   ]
  },
  {
   "cell_type": "markdown",
   "metadata": {
    "deletable": true,
    "editable": true
   },
   "source": [
    "### Question 5 - Final Model Evaluation\n",
    "_What is your optimized model's accuracy and F-score on the testing data? Are these scores better or worse than the unoptimized model? How do the results from your optimized model compare to the naive predictor benchmarks you found earlier in **Question 1**?_  \n",
    "**Note:** Fill in the table below with your results, and then provide discussion in the **Answer** box."
   ]
  },
  {
   "cell_type": "markdown",
   "metadata": {
    "deletable": true,
    "editable": true
   },
   "source": [
    "#### Results:\n",
    "\n",
    "|     Metric     | Benchmark Predictor | Unoptimized Model | Optimized Model |\n",
    "| :------------: | :-----------------: | :---------------: | :-------------: | \n",
    "| Accuracy Score |  0.2478             |   0.8171          |  0.8701         |\n",
    "| F-score        |  0.2917             |   0.6249          |  0.7472         |\n"
   ]
  },
  {
   "cell_type": "markdown",
   "metadata": {
    "deletable": true,
    "editable": true
   },
   "source": [
    "**Answer: ** The optimized model is definitely better than the unoptimized model, which is interesting because here I am only performing grid search on parameters of the base learner, not the AdaBoost model itself. I already tried performing a grid search on various AdaBoost parameters and found the difference between the optimized and unoptimized scores were pretty small, only like 1 percent better. And for runtime reasons it doesn't make sense to run a GridSearch with too many parameters, so I don't include those AdaBoost parameters here. But when I tune the base learner parameters the level of improvement is much more. This suggests that I might have been smarter if I had run the grid search to find good base learner parameters *first* before applying the AdaBoost algorithm to the base learner.\n",
    "\n",
    "Of course, both the optimized and unoptimized models far outperform the naive predictor benchmark from question 1."
   ]
  },
  {
   "cell_type": "markdown",
   "metadata": {
    "deletable": true,
    "editable": true
   },
   "source": [
    "----\n",
    "## Feature Importance\n",
    "\n",
    "An important task when performing supervised learning on a dataset like the census data we study here is determining which features provide the most predictive power. By focusing on the relationship between only a few crucial features and the target label we simplify our understanding of the phenomenon, which is most always a useful thing to do. In the case of this project, that means we wish to identify a small number of features that most strongly predict whether an individual makes at most or more than \\$50,000.\n",
    "\n",
    "Choose a scikit-learn classifier (e.g., adaboost, random forests) that has a `feature_importance_` attribute, which is a function that ranks the importance of features according to the chosen classifier.  In the next python cell fit this classifier to training set and use this attribute to determine the top 5 most important features for the census dataset."
   ]
  },
  {
   "cell_type": "markdown",
   "metadata": {
    "deletable": true,
    "editable": true
   },
   "source": [
    "### Question 6 - Feature Relevance Observation\n",
    "When **Exploring the Data**, it was shown there are thirteen available features for each individual on record in the census data.  \n",
    "_Of these thirteen records, which five features do you believe to be most important for prediction, and in what order would you rank them and why?_"
   ]
  },
  {
   "cell_type": "markdown",
   "metadata": {
    "deletable": true,
    "editable": true
   },
   "source": [
    "**Answer:** My intuition tells me that education level, age, race, hours worked per week, and capital gains are the most important features (ranked from most to least important). The presence of features like capital gains or losses  probably indicate a high income, but I feel that the vast majority have no capital gains or losses so there is not much information gained by categorizing the ones that do (this is why I put capital gains at the bottom). But there is greater variation among the populace with regard to education level, age, race, and hours worked per week, so I feel that there is a lot of information to be gained by differentiating along these axes. Education level comes first in my opinion (since I know that greater education levels often result in better jobs), followed by age (more experienced workers tend to be paid more), race (there are known discrepancies in employment between races), and then hours worked per week."
   ]
  },
  {
   "cell_type": "markdown",
   "metadata": {
    "deletable": true,
    "editable": true
   },
   "source": [
    "### Implementation - Extracting Feature Importance\n",
    "Choose a `scikit-learn` supervised learning algorithm that has a `feature_importance_` attribute availble for it. This attribute is a function that ranks the importance of each feature when making predictions based on the chosen algorithm.\n",
    "\n",
    "In the code cell below, you will need to implement the following:\n",
    " - Import a supervised learning model from sklearn if it is different from the three used earlier.\n",
    " - Train the supervised model on the entire training set.\n",
    " - Extract the feature importances using `'.feature_importances_'`."
   ]
  },
  {
   "cell_type": "code",
   "execution_count": 12,
   "metadata": {
    "collapsed": false,
    "deletable": true,
    "editable": true
   },
   "outputs": [
    {
     "data": {
      "image/png": "[encoded data removed]",
      "text/plain": [
       "<matplotlib.figure.Figure at 0x114334810>"
      ]
     },
     "metadata": {},
     "output_type": "display_data"
    }
   ],
   "source": [
    "# TODO: Import a supervised learning model that has 'feature_importances_'\n",
    "\n",
    "# TODO: Train the supervised model on the training set \n",
    "model = AdaBoostClassifier()\n",
    "model.fit(X_train, y_train)\n",
    "\n",
    "# TODO: Extract the feature importances\n",
    "importances = model.feature_importances_\n",
    "\n",
    "# Plot\n",
    "vs.feature_plot(importances, X_train, y_train)"
   ]
  },
  {
   "cell_type": "markdown",
   "metadata": {
    "deletable": true,
    "editable": true
   },
   "source": [
    "### Question 7 - Extracting Feature Importance\n",
    "\n",
    "Observe the visualization created above which displays the five most relevant features for predicting if an individual makes at most or above \\$50,000.  \n",
    "_How do these five features compare to the five features you discussed in **Question 6**? If you were close to the same answer, how does this visualization confirm your thoughts? If you were not close, why do you think these features are more relevant?_"
   ]
  },
  {
   "cell_type": "markdown",
   "metadata": {
    "deletable": true,
    "editable": true
   },
   "source": [
    "**Answer:** I was not that close in my answer from question 6. My reasoning was clearly wrong with regard to the importance of capital losses or gains, as it seems that these both provide enough information gain, and enough people in the data set have capital gains and losses, that these are very important features to discriminate on. Age was, as I suspected, a very relevant feature, as was hours-per-week. I am a little bit surprised that the education number is here in the top 5, but the education level is not. My impression was that academic degrees provided a significant boost to employment, but these results suggest that just spending the time in school, even if there is no ultimate graduation from a degree, provides more benefit."
   ]
  },
  {
   "cell_type": "markdown",
   "metadata": {
    "deletable": true,
    "editable": true
   },
   "source": [
    "### Feature Selection\n",
    "How does a model perform if we only use a subset of all the available features in the data? With less features required to train, the expectation is that training and prediction time is much lower — at the cost of performance metrics. From the visualization above, we see that the top five most important features contribute more than half of the importance of **all** features present in the data. This hints that we can attempt to *reduce the feature space* and simplify the information required for the model to learn. The code cell below will use the same optimized model you found earlier, and train it on the same training set *with only the top five important features*. "
   ]
  },
  {
   "cell_type": "code",
   "execution_count": 13,
   "metadata": {
    "collapsed": false,
    "deletable": true,
    "editable": true
   },
   "outputs": [
    {
     "name": "stdout",
     "output_type": "stream",
     "text": [
      "Final Model trained on full data\n",
      "------\n",
      "Accuracy on testing data: 0.8701\n",
      "F-score on testing data: 0.7472\n",
      "\n",
      "Final Model trained on reduced data\n",
      "------\n",
      "Accuracy on testing data: 0.8428\n",
      "F-score on testing data: 0.7004\n"
     ]
    }
   ],
   "source": [
    "# Import functionality for cloning a model\n",
    "from sklearn.base import clone\n",
    "\n",
    "# Reduce the feature space\n",
    "X_train_reduced = X_train[X_train.columns.values[(np.argsort(importances)[::-1])[:5]]]\n",
    "X_test_reduced = X_test[X_test.columns.values[(np.argsort(importances)[::-1])[:5]]]\n",
    "\n",
    "# Train on the \"best\" model found from grid search earlier\n",
    "clf = (clone(best_clf)).fit(X_train_reduced, y_train)\n",
    "\n",
    "# Make new predictions\n",
    "reduced_predictions = clf.predict(X_test_reduced)\n",
    "\n",
    "# Report scores from the final model using both versions of data\n",
    "print \"Final Model trained on full data\\n------\"\n",
    "print \"Accuracy on testing data: {:.4f}\".format(accuracy_score(y_test, best_predictions))\n",
    "print \"F-score on testing data: {:.4f}\".format(fbeta_score(y_test, best_predictions, beta = 0.5))\n",
    "print \"\\nFinal Model trained on reduced data\\n------\"\n",
    "print \"Accuracy on testing data: {:.4f}\".format(accuracy_score(y_test, reduced_predictions))\n",
    "print \"F-score on testing data: {:.4f}\".format(fbeta_score(y_test, reduced_predictions, beta = 0.5))"
   ]
  },
  {
   "cell_type": "markdown",
   "metadata": {
    "deletable": true,
    "editable": true
   },
   "source": [
    "### Question 8 - Effects of Feature Selection\n",
    "*How does the final model's F-score and accuracy score on the reduced data using only five features compare to those same scores when all features are used?*  \n",
    "*If training time was a factor, would you consider using the reduced data as your training set?*"
   ]
  },
  {
   "cell_type": "markdown",
   "metadata": {
    "deletable": true,
    "editable": true
   },
   "source": [
    "**Answer:** With only the top 5 features, the model underperforms the accuracy and f-score of the full model by about 3 to 4 percent. This is not huge, and if training time were a factor I would consider using the reduced data as my training set. But this algorithm is already pretty fast, so I don't feel the time savings is usually going to be worth the reduced performance. "
   ]
  },
  {
   "cell_type": "markdown",
   "metadata": {
    "deletable": true,
    "editable": true
   },
   "source": [
    "> **Note**: Once you have completed all of the code implementations and successfully answered each question above, you may finalize your work by exporting the iPython Notebook as an HTML document. You can do this by using the menu above and navigating to  \n",
    "**File -> Download as -> HTML (.html)**. Include the finished document along with this notebook as your submission."
   ]
  }
 ],
 "metadata": {
  "kernelspec": {
   "display_name": "Python 2",
   "language": "python",
   "name": "python2"
  },
  "language_info": {
   "codemirror_mode": {
    "name": "ipython",
    "version": 2
   },
   "file_extension": ".py",
   "mimetype": "text/x-python",
   "name": "python",
   "nbconvert_exporter": "python",
   "pygments_lexer": "ipython2",
   "version": "2.7.12"
  }
 },
 "nbformat": 4,
 "nbformat_minor": 0
}
